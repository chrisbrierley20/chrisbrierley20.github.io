{
  "nbformat": 4,
  "nbformat_minor": 0,
  "metadata": {
    "colab": {
      "name": "Stock_Regression.ipynb",
      "provenance": [],
      "collapsed_sections": [],
      "authorship_tag": "ABX9TyMl+6oNMB/Hus9R0+7RE277",
      "include_colab_link": true
    },
    "kernelspec": {
      "name": "python3",
      "display_name": "Python 3"
    },
    "language_info": {
      "name": "python"
    }
  },
  "cells": [
    {
      "cell_type": "markdown",
      "metadata": {
        "id": "view-in-github",
        "colab_type": "text"
      },
      "source": [
        "<a href=\"https://colab.research.google.com/github/chrisbrierley20/chrisbrierley20.github.io/blob/main/Stock_Regression.ipynb\" target=\"_parent\"><img src=\"https://colab.research.google.com/assets/colab-badge.svg\" alt=\"Open In Colab\"/></a>"
      ]
    },
    {
      "cell_type": "code",
      "metadata": {
        "colab": {
          "base_uri": "https://localhost:8080/"
        },
        "id": "ytay7RISIrfU",
        "outputId": "817f05e3-9eaf-4715-ae85-85556e5fdabe"
      },
      "source": [
        "!pip install yfinance"
      ],
      "execution_count": null,
      "outputs": [
        {
          "output_type": "stream",
          "name": "stdout",
          "text": [
            "Collecting yfinance\n",
            "  Downloading yfinance-0.1.67-py2.py3-none-any.whl (25 kB)\n",
            "Requirement already satisfied: multitasking>=0.0.7 in /usr/local/lib/python3.7/dist-packages (from yfinance) (0.0.10)\n",
            "Requirement already satisfied: numpy>=1.15 in /usr/local/lib/python3.7/dist-packages (from yfinance) (1.19.5)\n",
            "Collecting lxml>=4.5.1\n",
            "  Downloading lxml-4.6.4-cp37-cp37m-manylinux_2_17_x86_64.manylinux2014_x86_64.manylinux_2_24_x86_64.whl (6.3 MB)\n",
            "\u001b[K     |████████████████████████████████| 6.3 MB 6.1 MB/s \n",
            "\u001b[?25hRequirement already satisfied: requests>=2.20 in /usr/local/lib/python3.7/dist-packages (from yfinance) (2.23.0)\n",
            "Requirement already satisfied: pandas>=0.24 in /usr/local/lib/python3.7/dist-packages (from yfinance) (1.1.5)\n",
            "Requirement already satisfied: pytz>=2017.2 in /usr/local/lib/python3.7/dist-packages (from pandas>=0.24->yfinance) (2018.9)\n",
            "Requirement already satisfied: python-dateutil>=2.7.3 in /usr/local/lib/python3.7/dist-packages (from pandas>=0.24->yfinance) (2.8.2)\n",
            "Requirement already satisfied: six>=1.5 in /usr/local/lib/python3.7/dist-packages (from python-dateutil>=2.7.3->pandas>=0.24->yfinance) (1.15.0)\n",
            "Requirement already satisfied: certifi>=2017.4.17 in /usr/local/lib/python3.7/dist-packages (from requests>=2.20->yfinance) (2021.10.8)\n",
            "Requirement already satisfied: urllib3!=1.25.0,!=1.25.1,<1.26,>=1.21.1 in /usr/local/lib/python3.7/dist-packages (from requests>=2.20->yfinance) (1.24.3)\n",
            "Requirement already satisfied: idna<3,>=2.5 in /usr/local/lib/python3.7/dist-packages (from requests>=2.20->yfinance) (2.10)\n",
            "Requirement already satisfied: chardet<4,>=3.0.2 in /usr/local/lib/python3.7/dist-packages (from requests>=2.20->yfinance) (3.0.4)\n",
            "Installing collected packages: lxml, yfinance\n",
            "  Attempting uninstall: lxml\n",
            "    Found existing installation: lxml 4.2.6\n",
            "    Uninstalling lxml-4.2.6:\n",
            "      Successfully uninstalled lxml-4.2.6\n",
            "Successfully installed lxml-4.6.4 yfinance-0.1.67\n"
          ]
        }
      ]
    },
    {
      "cell_type": "code",
      "metadata": {
        "id": "FHeSt6p5IvGP"
      },
      "source": [
        "import yfinance as yf"
      ],
      "execution_count": null,
      "outputs": []
    },
    {
      "cell_type": "code",
      "metadata": {
        "id": "RNf6oKwuI2a9"
      },
      "source": [
        "abnb = yf.Ticker(\"ABNB\").history(period='1y')\n",
        "brdcy = yf.Ticker(\"BRDCY\").history(period='1y')\n",
        "ko = yf.Ticker(\"KO\").history(period='1y')\n",
        "intc = yf.Ticker(\"INTC\").history(period='1y')\n",
        "pcrfy = yf.Ticker(\"PCRFY\").history(period='1y')\n",
        "pg = yf.Ticker(\"PG\").history(period='1y')\n",
        "tm = yf.Ticker(\"TM\").history(period='1y')\n",
        "v = yf.Ticker(\"V\").history(period='1y')"
      ],
      "execution_count": null,
      "outputs": []
    },
    {
      "cell_type": "code",
      "metadata": {
        "id": "UbVq1z1UMxf6"
      },
      "source": [
        "dfs=[]\n",
        "for x in ['ABNB','BRDCY','KO','INTC','PCRFY','PG','TM','V']:\n",
        "  df = yf.Ticker(x).history(period='1y')\n",
        "  df=df[['Close']]\n",
        "  df['Name']=x\n",
        "  dfs.append(df)"
      ],
      "execution_count": null,
      "outputs": []
    },
    {
      "cell_type": "code",
      "metadata": {
        "colab": {
          "base_uri": "https://localhost:8080/",
          "height": 143
        },
        "id": "TBD-syG2NEcA",
        "outputId": "f392778d-8796-4ec0-96fd-c8874418dbd2"
      },
      "source": [
        "dfs[0].head(2)"
      ],
      "execution_count": null,
      "outputs": [
        {
          "output_type": "execute_result",
          "data": {
            "text/html": [
              "<div>\n",
              "<style scoped>\n",
              "    .dataframe tbody tr th:only-of-type {\n",
              "        vertical-align: middle;\n",
              "    }\n",
              "\n",
              "    .dataframe tbody tr th {\n",
              "        vertical-align: top;\n",
              "    }\n",
              "\n",
              "    .dataframe thead th {\n",
              "        text-align: right;\n",
              "    }\n",
              "</style>\n",
              "<table border=\"1\" class=\"dataframe\">\n",
              "  <thead>\n",
              "    <tr style=\"text-align: right;\">\n",
              "      <th></th>\n",
              "      <th>Close</th>\n",
              "      <th>Name</th>\n",
              "    </tr>\n",
              "    <tr>\n",
              "      <th>Date</th>\n",
              "      <th></th>\n",
              "      <th></th>\n",
              "    </tr>\n",
              "  </thead>\n",
              "  <tbody>\n",
              "    <tr>\n",
              "      <th>2020-12-10</th>\n",
              "      <td>144.710007</td>\n",
              "      <td>ABNB</td>\n",
              "    </tr>\n",
              "    <tr>\n",
              "      <th>2020-12-11</th>\n",
              "      <td>139.250000</td>\n",
              "      <td>ABNB</td>\n",
              "    </tr>\n",
              "  </tbody>\n",
              "</table>\n",
              "</div>"
            ],
            "text/plain": [
              "                 Close  Name\n",
              "Date                        \n",
              "2020-12-10  144.710007  ABNB\n",
              "2020-12-11  139.250000  ABNB"
            ]
          },
          "metadata": {},
          "execution_count": 6
        }
      ]
    },
    {
      "cell_type": "code",
      "metadata": {
        "colab": {
          "base_uri": "https://localhost:8080/",
          "height": 455
        },
        "id": "yq-oWF9wNHKM",
        "outputId": "ff2e62c1-6ef1-4c5b-ba5d-c5fb0ff95315"
      },
      "source": [
        "import pandas as pd\n",
        "pd.concat([ dfs[0],dfs[1] ])"
      ],
      "execution_count": null,
      "outputs": [
        {
          "output_type": "execute_result",
          "data": {
            "text/html": [
              "<div>\n",
              "<style scoped>\n",
              "    .dataframe tbody tr th:only-of-type {\n",
              "        vertical-align: middle;\n",
              "    }\n",
              "\n",
              "    .dataframe tbody tr th {\n",
              "        vertical-align: top;\n",
              "    }\n",
              "\n",
              "    .dataframe thead th {\n",
              "        text-align: right;\n",
              "    }\n",
              "</style>\n",
              "<table border=\"1\" class=\"dataframe\">\n",
              "  <thead>\n",
              "    <tr style=\"text-align: right;\">\n",
              "      <th></th>\n",
              "      <th>Close</th>\n",
              "      <th>Name</th>\n",
              "    </tr>\n",
              "    <tr>\n",
              "      <th>Date</th>\n",
              "      <th></th>\n",
              "      <th></th>\n",
              "    </tr>\n",
              "  </thead>\n",
              "  <tbody>\n",
              "    <tr>\n",
              "      <th>2020-12-10</th>\n",
              "      <td>144.710007</td>\n",
              "      <td>ABNB</td>\n",
              "    </tr>\n",
              "    <tr>\n",
              "      <th>2020-12-11</th>\n",
              "      <td>139.250000</td>\n",
              "      <td>ABNB</td>\n",
              "    </tr>\n",
              "    <tr>\n",
              "      <th>2020-12-14</th>\n",
              "      <td>130.000000</td>\n",
              "      <td>ABNB</td>\n",
              "    </tr>\n",
              "    <tr>\n",
              "      <th>2020-12-15</th>\n",
              "      <td>124.800003</td>\n",
              "      <td>ABNB</td>\n",
              "    </tr>\n",
              "    <tr>\n",
              "      <th>2020-12-16</th>\n",
              "      <td>137.990005</td>\n",
              "      <td>ABNB</td>\n",
              "    </tr>\n",
              "    <tr>\n",
              "      <th>...</th>\n",
              "      <td>...</td>\n",
              "      <td>...</td>\n",
              "    </tr>\n",
              "    <tr>\n",
              "      <th>2021-11-29</th>\n",
              "      <td>20.299999</td>\n",
              "      <td>BRDCY</td>\n",
              "    </tr>\n",
              "    <tr>\n",
              "      <th>2021-11-30</th>\n",
              "      <td>19.959999</td>\n",
              "      <td>BRDCY</td>\n",
              "    </tr>\n",
              "    <tr>\n",
              "      <th>2021-12-01</th>\n",
              "      <td>20.090000</td>\n",
              "      <td>BRDCY</td>\n",
              "    </tr>\n",
              "    <tr>\n",
              "      <th>2021-12-02</th>\n",
              "      <td>20.770000</td>\n",
              "      <td>BRDCY</td>\n",
              "    </tr>\n",
              "    <tr>\n",
              "      <th>2021-12-03</th>\n",
              "      <td>21.040001</td>\n",
              "      <td>BRDCY</td>\n",
              "    </tr>\n",
              "  </tbody>\n",
              "</table>\n",
              "<p>500 rows × 2 columns</p>\n",
              "</div>"
            ],
            "text/plain": [
              "                 Close   Name\n",
              "Date                         \n",
              "2020-12-10  144.710007   ABNB\n",
              "2020-12-11  139.250000   ABNB\n",
              "2020-12-14  130.000000   ABNB\n",
              "2020-12-15  124.800003   ABNB\n",
              "2020-12-16  137.990005   ABNB\n",
              "...                ...    ...\n",
              "2021-11-29   20.299999  BRDCY\n",
              "2021-11-30   19.959999  BRDCY\n",
              "2021-12-01   20.090000  BRDCY\n",
              "2021-12-02   20.770000  BRDCY\n",
              "2021-12-03   21.040001  BRDCY\n",
              "\n",
              "[500 rows x 2 columns]"
            ]
          },
          "metadata": {},
          "execution_count": 8
        }
      ]
    },
    {
      "cell_type": "code",
      "metadata": {
        "colab": {
          "base_uri": "https://localhost:8080/",
          "height": 455
        },
        "id": "yILuacmzNd7z",
        "outputId": "a75c9017-ec23-4621-bfec-c9ae2eeed1c9"
      },
      "source": [
        "pd.concat(dfs)"
      ],
      "execution_count": null,
      "outputs": [
        {
          "output_type": "execute_result",
          "data": {
            "text/html": [
              "<div>\n",
              "<style scoped>\n",
              "    .dataframe tbody tr th:only-of-type {\n",
              "        vertical-align: middle;\n",
              "    }\n",
              "\n",
              "    .dataframe tbody tr th {\n",
              "        vertical-align: top;\n",
              "    }\n",
              "\n",
              "    .dataframe thead th {\n",
              "        text-align: right;\n",
              "    }\n",
              "</style>\n",
              "<table border=\"1\" class=\"dataframe\">\n",
              "  <thead>\n",
              "    <tr style=\"text-align: right;\">\n",
              "      <th></th>\n",
              "      <th>Close</th>\n",
              "      <th>Name</th>\n",
              "    </tr>\n",
              "    <tr>\n",
              "      <th>Date</th>\n",
              "      <th></th>\n",
              "      <th></th>\n",
              "    </tr>\n",
              "  </thead>\n",
              "  <tbody>\n",
              "    <tr>\n",
              "      <th>2020-12-10</th>\n",
              "      <td>144.710007</td>\n",
              "      <td>ABNB</td>\n",
              "    </tr>\n",
              "    <tr>\n",
              "      <th>2020-12-11</th>\n",
              "      <td>139.250000</td>\n",
              "      <td>ABNB</td>\n",
              "    </tr>\n",
              "    <tr>\n",
              "      <th>2020-12-14</th>\n",
              "      <td>130.000000</td>\n",
              "      <td>ABNB</td>\n",
              "    </tr>\n",
              "    <tr>\n",
              "      <th>2020-12-15</th>\n",
              "      <td>124.800003</td>\n",
              "      <td>ABNB</td>\n",
              "    </tr>\n",
              "    <tr>\n",
              "      <th>2020-12-16</th>\n",
              "      <td>137.990005</td>\n",
              "      <td>ABNB</td>\n",
              "    </tr>\n",
              "    <tr>\n",
              "      <th>...</th>\n",
              "      <td>...</td>\n",
              "      <td>...</td>\n",
              "    </tr>\n",
              "    <tr>\n",
              "      <th>2021-11-30</th>\n",
              "      <td>193.770004</td>\n",
              "      <td>V</td>\n",
              "    </tr>\n",
              "    <tr>\n",
              "      <th>2021-12-01</th>\n",
              "      <td>190.160004</td>\n",
              "      <td>V</td>\n",
              "    </tr>\n",
              "    <tr>\n",
              "      <th>2021-12-02</th>\n",
              "      <td>198.289993</td>\n",
              "      <td>V</td>\n",
              "    </tr>\n",
              "    <tr>\n",
              "      <th>2021-12-03</th>\n",
              "      <td>196.320007</td>\n",
              "      <td>V</td>\n",
              "    </tr>\n",
              "    <tr>\n",
              "      <th>2021-12-06</th>\n",
              "      <td>200.100006</td>\n",
              "      <td>V</td>\n",
              "    </tr>\n",
              "  </tbody>\n",
              "</table>\n",
              "<p>2011 rows × 2 columns</p>\n",
              "</div>"
            ],
            "text/plain": [
              "                 Close  Name\n",
              "Date                        \n",
              "2020-12-10  144.710007  ABNB\n",
              "2020-12-11  139.250000  ABNB\n",
              "2020-12-14  130.000000  ABNB\n",
              "2020-12-15  124.800003  ABNB\n",
              "2020-12-16  137.990005  ABNB\n",
              "...                ...   ...\n",
              "2021-11-30  193.770004     V\n",
              "2021-12-01  190.160004     V\n",
              "2021-12-02  198.289993     V\n",
              "2021-12-03  196.320007     V\n",
              "2021-12-06  200.100006     V\n",
              "\n",
              "[2011 rows x 2 columns]"
            ]
          },
          "metadata": {},
          "execution_count": 9
        }
      ]
    },
    {
      "cell_type": "code",
      "metadata": {
        "colab": {
          "base_uri": "https://localhost:8080/",
          "height": 237
        },
        "id": "EdnnbMRaNf3y",
        "outputId": "9a7296e8-4352-4193-eeac-4be88afcc49e"
      },
      "source": [
        "dfz=pd.DataFrame()\n",
        "for x in dfs:\n",
        "  stock_name=x['Name'].values[0]\n",
        "  stock_name=stock_name.replace('.','')\n",
        "  x=x[['Close']]\n",
        "  x.columns=[stock_name]\n",
        "  dfz=x.join(dfz)\n",
        "dfz.head()  "
      ],
      "execution_count": null,
      "outputs": [
        {
          "output_type": "execute_result",
          "data": {
            "text/html": [
              "<div>\n",
              "<style scoped>\n",
              "    .dataframe tbody tr th:only-of-type {\n",
              "        vertical-align: middle;\n",
              "    }\n",
              "\n",
              "    .dataframe tbody tr th {\n",
              "        vertical-align: top;\n",
              "    }\n",
              "\n",
              "    .dataframe thead th {\n",
              "        text-align: right;\n",
              "    }\n",
              "</style>\n",
              "<table border=\"1\" class=\"dataframe\">\n",
              "  <thead>\n",
              "    <tr style=\"text-align: right;\">\n",
              "      <th></th>\n",
              "      <th>V</th>\n",
              "      <th>TM</th>\n",
              "      <th>PG</th>\n",
              "      <th>PCRFY</th>\n",
              "      <th>INTC</th>\n",
              "      <th>KO</th>\n",
              "      <th>BRDCY</th>\n",
              "      <th>ABNB</th>\n",
              "    </tr>\n",
              "    <tr>\n",
              "      <th>Date</th>\n",
              "      <th></th>\n",
              "      <th></th>\n",
              "      <th></th>\n",
              "      <th></th>\n",
              "      <th></th>\n",
              "      <th></th>\n",
              "      <th></th>\n",
              "      <th></th>\n",
              "    </tr>\n",
              "  </thead>\n",
              "  <tbody>\n",
              "    <tr>\n",
              "      <th>2020-12-07</th>\n",
              "      <td>211.351730</td>\n",
              "      <td>138.149994</td>\n",
              "      <td>134.302017</td>\n",
              "      <td>10.99</td>\n",
              "      <td>48.931232</td>\n",
              "      <td>51.370483</td>\n",
              "      <td>17.740000</td>\n",
              "      <td>NaN</td>\n",
              "    </tr>\n",
              "    <tr>\n",
              "      <th>2020-12-08</th>\n",
              "      <td>211.470993</td>\n",
              "      <td>138.740005</td>\n",
              "      <td>134.662949</td>\n",
              "      <td>11.03</td>\n",
              "      <td>49.408840</td>\n",
              "      <td>51.554676</td>\n",
              "      <td>17.680000</td>\n",
              "      <td>NaN</td>\n",
              "    </tr>\n",
              "    <tr>\n",
              "      <th>2020-12-09</th>\n",
              "      <td>208.300461</td>\n",
              "      <td>140.880005</td>\n",
              "      <td>133.063171</td>\n",
              "      <td>11.31</td>\n",
              "      <td>48.804516</td>\n",
              "      <td>51.700096</td>\n",
              "      <td>17.660000</td>\n",
              "      <td>NaN</td>\n",
              "    </tr>\n",
              "    <tr>\n",
              "      <th>2020-12-10</th>\n",
              "      <td>206.342499</td>\n",
              "      <td>143.070007</td>\n",
              "      <td>132.185257</td>\n",
              "      <td>11.29</td>\n",
              "      <td>48.989712</td>\n",
              "      <td>51.428650</td>\n",
              "      <td>17.700001</td>\n",
              "      <td>144.710007</td>\n",
              "    </tr>\n",
              "    <tr>\n",
              "      <th>2020-12-11</th>\n",
              "      <td>204.980865</td>\n",
              "      <td>151.000000</td>\n",
              "      <td>133.160706</td>\n",
              "      <td>11.23</td>\n",
              "      <td>48.473110</td>\n",
              "      <td>51.719482</td>\n",
              "      <td>17.590000</td>\n",
              "      <td>139.250000</td>\n",
              "    </tr>\n",
              "  </tbody>\n",
              "</table>\n",
              "</div>"
            ],
            "text/plain": [
              "                     V          TM  ...      BRDCY        ABNB\n",
              "Date                                ...                       \n",
              "2020-12-07  211.351730  138.149994  ...  17.740000         NaN\n",
              "2020-12-08  211.470993  138.740005  ...  17.680000         NaN\n",
              "2020-12-09  208.300461  140.880005  ...  17.660000         NaN\n",
              "2020-12-10  206.342499  143.070007  ...  17.700001  144.710007\n",
              "2020-12-11  204.980865  151.000000  ...  17.590000  139.250000\n",
              "\n",
              "[5 rows x 8 columns]"
            ]
          },
          "metadata": {},
          "execution_count": 37
        }
      ]
    },
    {
      "cell_type": "code",
      "metadata": {
        "id": "ZkI7C6NjztcU"
      },
      "source": [
        "dfz.dropna(subset = [\"KO\"], inplace=True)"
      ],
      "execution_count": null,
      "outputs": []
    },
    {
      "cell_type": "code",
      "metadata": {
        "colab": {
          "base_uri": "https://localhost:8080/",
          "height": 455
        },
        "id": "h6N63jzI0S48",
        "outputId": "22692fbb-0968-49dc-9f44-6dd813faae79"
      },
      "source": [
        "dfz"
      ],
      "execution_count": null,
      "outputs": [
        {
          "output_type": "execute_result",
          "data": {
            "text/html": [
              "<div>\n",
              "<style scoped>\n",
              "    .dataframe tbody tr th:only-of-type {\n",
              "        vertical-align: middle;\n",
              "    }\n",
              "\n",
              "    .dataframe tbody tr th {\n",
              "        vertical-align: top;\n",
              "    }\n",
              "\n",
              "    .dataframe thead th {\n",
              "        text-align: right;\n",
              "    }\n",
              "</style>\n",
              "<table border=\"1\" class=\"dataframe\">\n",
              "  <thead>\n",
              "    <tr style=\"text-align: right;\">\n",
              "      <th></th>\n",
              "      <th>V</th>\n",
              "      <th>TM</th>\n",
              "      <th>PG</th>\n",
              "      <th>PCRFY</th>\n",
              "      <th>INTC</th>\n",
              "      <th>KO</th>\n",
              "      <th>BRDCY</th>\n",
              "      <th>ABNB</th>\n",
              "    </tr>\n",
              "    <tr>\n",
              "      <th>Date</th>\n",
              "      <th></th>\n",
              "      <th></th>\n",
              "      <th></th>\n",
              "      <th></th>\n",
              "      <th></th>\n",
              "      <th></th>\n",
              "      <th></th>\n",
              "      <th></th>\n",
              "    </tr>\n",
              "  </thead>\n",
              "  <tbody>\n",
              "    <tr>\n",
              "      <th>2020-12-07</th>\n",
              "      <td>211.351730</td>\n",
              "      <td>138.149994</td>\n",
              "      <td>134.302017</td>\n",
              "      <td>10.99</td>\n",
              "      <td>48.931232</td>\n",
              "      <td>51.370483</td>\n",
              "      <td>17.740000</td>\n",
              "      <td>NaN</td>\n",
              "    </tr>\n",
              "    <tr>\n",
              "      <th>2020-12-08</th>\n",
              "      <td>211.470993</td>\n",
              "      <td>138.740005</td>\n",
              "      <td>134.662949</td>\n",
              "      <td>11.03</td>\n",
              "      <td>49.408840</td>\n",
              "      <td>51.554676</td>\n",
              "      <td>17.680000</td>\n",
              "      <td>NaN</td>\n",
              "    </tr>\n",
              "    <tr>\n",
              "      <th>2020-12-09</th>\n",
              "      <td>208.300461</td>\n",
              "      <td>140.880005</td>\n",
              "      <td>133.063171</td>\n",
              "      <td>11.31</td>\n",
              "      <td>48.804516</td>\n",
              "      <td>51.700096</td>\n",
              "      <td>17.660000</td>\n",
              "      <td>NaN</td>\n",
              "    </tr>\n",
              "    <tr>\n",
              "      <th>2020-12-10</th>\n",
              "      <td>206.342499</td>\n",
              "      <td>143.070007</td>\n",
              "      <td>132.185257</td>\n",
              "      <td>11.29</td>\n",
              "      <td>48.989712</td>\n",
              "      <td>51.428650</td>\n",
              "      <td>17.700001</td>\n",
              "      <td>144.710007</td>\n",
              "    </tr>\n",
              "    <tr>\n",
              "      <th>2020-12-11</th>\n",
              "      <td>204.980865</td>\n",
              "      <td>151.000000</td>\n",
              "      <td>133.160706</td>\n",
              "      <td>11.23</td>\n",
              "      <td>48.473110</td>\n",
              "      <td>51.719482</td>\n",
              "      <td>17.590000</td>\n",
              "      <td>139.250000</td>\n",
              "    </tr>\n",
              "    <tr>\n",
              "      <th>...</th>\n",
              "      <td>...</td>\n",
              "      <td>...</td>\n",
              "      <td>...</td>\n",
              "      <td>...</td>\n",
              "      <td>...</td>\n",
              "      <td>...</td>\n",
              "      <td>...</td>\n",
              "      <td>...</td>\n",
              "    </tr>\n",
              "    <tr>\n",
              "      <th>2021-11-29</th>\n",
              "      <td>196.289993</td>\n",
              "      <td>177.470001</td>\n",
              "      <td>149.020004</td>\n",
              "      <td>11.31</td>\n",
              "      <td>50.000000</td>\n",
              "      <td>54.160000</td>\n",
              "      <td>20.299999</td>\n",
              "      <td>180.080002</td>\n",
              "    </tr>\n",
              "    <tr>\n",
              "      <th>2021-11-30</th>\n",
              "      <td>193.770004</td>\n",
              "      <td>177.850006</td>\n",
              "      <td>144.580002</td>\n",
              "      <td>10.90</td>\n",
              "      <td>49.200001</td>\n",
              "      <td>52.450001</td>\n",
              "      <td>19.959999</td>\n",
              "      <td>172.539993</td>\n",
              "    </tr>\n",
              "    <tr>\n",
              "      <th>2021-12-01</th>\n",
              "      <td>190.160004</td>\n",
              "      <td>178.289993</td>\n",
              "      <td>146.399994</td>\n",
              "      <td>10.87</td>\n",
              "      <td>48.599998</td>\n",
              "      <td>52.299999</td>\n",
              "      <td>20.090000</td>\n",
              "      <td>163.080002</td>\n",
              "    </tr>\n",
              "    <tr>\n",
              "      <th>2021-12-02</th>\n",
              "      <td>198.289993</td>\n",
              "      <td>183.160004</td>\n",
              "      <td>147.259995</td>\n",
              "      <td>11.10</td>\n",
              "      <td>49.500000</td>\n",
              "      <td>53.070000</td>\n",
              "      <td>20.770000</td>\n",
              "      <td>169.600006</td>\n",
              "    </tr>\n",
              "    <tr>\n",
              "      <th>2021-12-03</th>\n",
              "      <td>196.320007</td>\n",
              "      <td>182.460007</td>\n",
              "      <td>149.880005</td>\n",
              "      <td>11.04</td>\n",
              "      <td>49.250000</td>\n",
              "      <td>53.540001</td>\n",
              "      <td>21.040001</td>\n",
              "      <td>166.750000</td>\n",
              "    </tr>\n",
              "  </tbody>\n",
              "</table>\n",
              "<p>251 rows × 8 columns</p>\n",
              "</div>"
            ],
            "text/plain": [
              "                     V          TM  ...      BRDCY        ABNB\n",
              "Date                                ...                       \n",
              "2020-12-07  211.351730  138.149994  ...  17.740000         NaN\n",
              "2020-12-08  211.470993  138.740005  ...  17.680000         NaN\n",
              "2020-12-09  208.300461  140.880005  ...  17.660000         NaN\n",
              "2020-12-10  206.342499  143.070007  ...  17.700001  144.710007\n",
              "2020-12-11  204.980865  151.000000  ...  17.590000  139.250000\n",
              "...                ...         ...  ...        ...         ...\n",
              "2021-11-29  196.289993  177.470001  ...  20.299999  180.080002\n",
              "2021-11-30  193.770004  177.850006  ...  19.959999  172.539993\n",
              "2021-12-01  190.160004  178.289993  ...  20.090000  163.080002\n",
              "2021-12-02  198.289993  183.160004  ...  20.770000  169.600006\n",
              "2021-12-03  196.320007  182.460007  ...  21.040001  166.750000\n",
              "\n",
              "[251 rows x 8 columns]"
            ]
          },
          "metadata": {},
          "execution_count": 48
        }
      ]
    },
    {
      "cell_type": "code",
      "metadata": {
        "id": "7WhL_t3FN0Jh"
      },
      "source": [
        "dfz.to_csv('sponsor_stocks.csv')"
      ],
      "execution_count": null,
      "outputs": []
    },
    {
      "cell_type": "code",
      "metadata": {
        "id": "x3ZkIIjSN9up"
      },
      "source": [
        "import matplotlib.pyplot as plt\n",
        "plt.style.use('classic')\n",
        "%matplotlib inline\n",
        "import numpy as np"
      ],
      "execution_count": null,
      "outputs": []
    },
    {
      "cell_type": "code",
      "metadata": {
        "colab": {
          "base_uri": "https://localhost:8080/",
          "height": 112
        },
        "id": "weu6UjJ6T-pq",
        "outputId": "f58c4cff-e0e0-43cd-c46d-e4a91856bb08"
      },
      "source": [
        "stocks=pd.read_csv('sponsor_stocks.csv')\n",
        "stocks.head(2)"
      ],
      "execution_count": null,
      "outputs": [
        {
          "output_type": "execute_result",
          "data": {
            "text/html": [
              "<div>\n",
              "<style scoped>\n",
              "    .dataframe tbody tr th:only-of-type {\n",
              "        vertical-align: middle;\n",
              "    }\n",
              "\n",
              "    .dataframe tbody tr th {\n",
              "        vertical-align: top;\n",
              "    }\n",
              "\n",
              "    .dataframe thead th {\n",
              "        text-align: right;\n",
              "    }\n",
              "</style>\n",
              "<table border=\"1\" class=\"dataframe\">\n",
              "  <thead>\n",
              "    <tr style=\"text-align: right;\">\n",
              "      <th></th>\n",
              "      <th>Date</th>\n",
              "      <th>V</th>\n",
              "      <th>TM</th>\n",
              "      <th>PG</th>\n",
              "      <th>PCRFY</th>\n",
              "      <th>INTC</th>\n",
              "      <th>KO</th>\n",
              "      <th>BRDCY</th>\n",
              "      <th>ABNB</th>\n",
              "    </tr>\n",
              "  </thead>\n",
              "  <tbody>\n",
              "    <tr>\n",
              "      <th>0</th>\n",
              "      <td>2020-12-07</td>\n",
              "      <td>211.351730</td>\n",
              "      <td>138.149994</td>\n",
              "      <td>134.302017</td>\n",
              "      <td>10.99</td>\n",
              "      <td>48.931232</td>\n",
              "      <td>51.370483</td>\n",
              "      <td>17.74</td>\n",
              "      <td>NaN</td>\n",
              "    </tr>\n",
              "    <tr>\n",
              "      <th>1</th>\n",
              "      <td>2020-12-08</td>\n",
              "      <td>211.470993</td>\n",
              "      <td>138.740005</td>\n",
              "      <td>134.662949</td>\n",
              "      <td>11.03</td>\n",
              "      <td>49.408840</td>\n",
              "      <td>51.554676</td>\n",
              "      <td>17.68</td>\n",
              "      <td>NaN</td>\n",
              "    </tr>\n",
              "  </tbody>\n",
              "</table>\n",
              "</div>"
            ],
            "text/plain": [
              "         Date           V          TM  ...         KO  BRDCY  ABNB\n",
              "0  2020-12-07  211.351730  138.149994  ...  51.370483  17.74   NaN\n",
              "1  2020-12-08  211.470993  138.740005  ...  51.554676  17.68   NaN\n",
              "\n",
              "[2 rows x 9 columns]"
            ]
          },
          "metadata": {},
          "execution_count": 51
        }
      ]
    },
    {
      "cell_type": "code",
      "metadata": {
        "id": "gawcmPuQUDvg"
      },
      "source": [
        "import seaborn as sns\n",
        "sns.set()"
      ],
      "execution_count": null,
      "outputs": []
    },
    {
      "cell_type": "code",
      "metadata": {
        "colab": {
          "base_uri": "https://localhost:8080/",
          "height": 315
        },
        "id": "q-pLj3ZRUR8A",
        "outputId": "5e229593-5e9c-489c-eb06-e35248061725"
      },
      "source": [
        "sns.regplot(x='KO',y='PG',data=stocks)"
      ],
      "execution_count": null,
      "outputs": [
        {
          "output_type": "execute_result",
          "data": {
            "text/plain": [
              "<matplotlib.axes._subplots.AxesSubplot at 0x7f55a2f72290>"
            ]
          },
          "metadata": {},
          "execution_count": 54
        },
        {
          "output_type": "display_data",
          "data": {
            "image/png": "[encoded data removed]",
            "text/plain": [
              "<Figure size 432x288 with 1 Axes>"
            ]
          },
          "metadata": {}
        }
      ]
    },
    {
      "cell_type": "code",
      "metadata": {
        "id": "OWZW1avAU57K"
      },
      "source": [
        "from scipy.stats import linregress"
      ],
      "execution_count": null,
      "outputs": []
    },
    {
      "cell_type": "code",
      "metadata": {
        "id": "-6WHo9EvVMjO"
      },
      "source": [
        "slope, intercept, rvalue, pvalue, stderr = linregress(x=stocks.dropna()['KO'], y=stocks.dropna()['PG'])"
      ],
      "execution_count": null,
      "outputs": []
    },
    {
      "cell_type": "code",
      "metadata": {
        "colab": {
          "base_uri": "https://localhost:8080/"
        },
        "id": "iGkm6a8zVWiA",
        "outputId": "e041995e-5887-4216-d0d5-4dac81dd4a0d"
      },
      "source": [
        "print('y = ',np.round(slope,2),' * x + ',np.round(intercept,2))\n",
        "print('R² = ',np.round(rvalue**2,2))"
      ],
      "execution_count": null,
      "outputs": [
        {
          "output_type": "stream",
          "name": "stdout",
          "text": [
            "y =  2.02  * x +  29.26\n",
            "R² =  0.63\n"
          ]
        }
      ]
    },
    {
      "cell_type": "code",
      "metadata": {
        "id": "oi9EYS7QVYcf"
      },
      "source": [
        ""
      ],
      "execution_count": null,
      "outputs": []
    }
  ]
}